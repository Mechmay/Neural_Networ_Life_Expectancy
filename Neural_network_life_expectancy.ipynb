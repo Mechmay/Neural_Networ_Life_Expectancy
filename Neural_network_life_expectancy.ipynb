{
  "nbformat": 4,
  "nbformat_minor": 0,
  "metadata": {
    "kernelspec": {
      "display_name": "Python 3",
      "language": "python",
      "name": "python3"
    },
    "language_info": {
      "codemirror_mode": {
        "name": "ipython",
        "version": 3
      },
      "file_extension": ".py",
      "mimetype": "text/x-python",
      "name": "python",
      "nbconvert_exporter": "python",
      "pygments_lexer": "ipython3",
      "version": "3.7.7"
    },
    "colab": {
      "name": "Neural_network_life_expectancy.ipynb",
      "provenance": [],
      "collapsed_sections": [],
      "include_colab_link": true
    },
    "accelerator": "GPU"
  },
  "cells": [
    {
      "cell_type": "markdown",
      "metadata": {
        "id": "view-in-github",
        "colab_type": "text"
      },
      "source": [
        "<a href=\"https://colab.research.google.com/github/Mechmay/Neural_Network_Life_Expectancy/blob/master/Neural_network_life_expectancy.ipynb\" target=\"_parent\"><img src=\"https://colab.research.google.com/assets/colab-badge.svg\" alt=\"Open In Colab\"/></a>"
      ]
    },
    {
      "cell_type": "code",
      "metadata": {
        "id": "gJ2KfUTwHm5b"
      },
      "source": [
        "import pandas as pd\n",
        "from sklearn.model_selection import train_test_split\n",
        "from sklearn.preprocessing import StandardScaler, Normalizer\n",
        "from sklearn.compose import ColumnTransformer\n",
        "from tensorflow.keras.models import Sequential\n",
        "from tensorflow.keras import layers\n",
        "from tensorflow.keras.optimizers import Adam"
      ],
      "execution_count": 4,
      "outputs": []
    },
    {
      "cell_type": "markdown",
      "metadata": {
        "id": "fp9om8Q7Hm5p"
      },
      "source": [
        "### Data Loading and Observing"
      ]
    },
    {
      "cell_type": "code",
      "metadata": {
        "scrolled": true,
        "id": "nlOxsaCSHm5q",
        "colab": {
          "base_uri": "https://localhost:8080/"
        },
        "outputId": "82e96c18-d701-4e2d-bcdd-fe567adf5ec0"
      },
      "source": [
        "df = pd.read_csv('https://raw.githubusercontent.com/Mechmay/Neural_Network_Life_Expectancy/master/life_expectancy.csv')\n",
        "\n",
        "data = df.drop(columns=['Country'])\n",
        "\n",
        "labels = data.iloc[:, -1]\n",
        "features = data.iloc[:,0:-1]\n",
        "\n",
        "features.columns\n",
        "# display(features.dtypes)\n"
      ],
      "execution_count": 5,
      "outputs": [
        {
          "output_type": "execute_result",
          "data": {
            "text/plain": [
              "Index(['Year', 'Status', 'Adult Mortality', 'infant deaths', 'Alcohol',\n",
              "       'percentage expenditure', 'Hepatitis B', 'Measles ', ' BMI ',\n",
              "       'under-five deaths ', 'Polio', 'Total expenditure', 'Diphtheria ',\n",
              "       ' HIV/AIDS', 'GDP', 'Population', ' thinness  1-19 years',\n",
              "       ' thinness 5-9 years', 'Income composition of resources', 'Schooling'],\n",
              "      dtype='object')"
            ]
          },
          "metadata": {
            "tags": []
          },
          "execution_count": 5
        }
      ]
    },
    {
      "cell_type": "markdown",
      "metadata": {
        "id": "RKQoEd06Hm5t"
      },
      "source": [
        "### Data Preprocessing"
      ]
    },
    {
      "cell_type": "code",
      "metadata": {
        "id": "UdNnbXvHHm5u"
      },
      "source": [
        "# Changing categorical Variables to numerical using one-hot encoding\n",
        "features = pd.get_dummies(features)\n",
        "\n",
        "features_train, features_test, labels_train, labels_test = train_test_split(features, labels, test_size = 0.2, random_state = 42)\n",
        "\n",
        "numerical_features = features.select_dtypes(include = ['float64', 'int64'])\n",
        "numerical_columns = numerical_features.columns\n",
        "\n",
        "ct = ColumnTransformer([('only numeric', StandardScaler(), numerical_columns)], remainder = 'passthrough')\n",
        "features_train_scaled = ct.fit_transform(features_train)\n",
        "features_test_scaled = ct.transform(features_test)\n",
        "\n"
      ],
      "execution_count": 6,
      "outputs": []
    },
    {
      "cell_type": "markdown",
      "metadata": {
        "id": "MGFjwuHVHm5v"
      },
      "source": [
        "### Building the Model"
      ]
    },
    {
      "cell_type": "code",
      "metadata": {
        "id": "zJ29dcQqHm5w",
        "colab": {
          "base_uri": "https://localhost:8080/"
        },
        "outputId": "6dbd9aad-6fda-4708-8fbf-ee434f4c19c4"
      },
      "source": [
        "my_model = Sequential()\n",
        "\n",
        "# adding input layer\n",
        "input = layers.InputLayer(input_shape=(features.shape[1],))\n",
        "my_model.add(input)\n",
        "\n",
        "# adding hidden layer\n",
        "my_model.add(layers.Dense(64, activation = 'relu'))\n",
        "\n",
        "# adding output layer\n",
        "my_model.add(layers.Dense(1))\n",
        "\n",
        "my_model.summary()"
      ],
      "execution_count": 7,
      "outputs": [
        {
          "output_type": "stream",
          "text": [
            "Model: \"sequential\"\n",
            "_________________________________________________________________\n",
            "Layer (type)                 Output Shape              Param #   \n",
            "=================================================================\n",
            "dense (Dense)                (None, 64)                1408      \n",
            "_________________________________________________________________\n",
            "dense_1 (Dense)              (None, 1)                 65        \n",
            "=================================================================\n",
            "Total params: 1,473\n",
            "Trainable params: 1,473\n",
            "Non-trainable params: 0\n",
            "_________________________________________________________________\n"
          ],
          "name": "stdout"
        }
      ]
    },
    {
      "cell_type": "markdown",
      "metadata": {
        "id": "xQIK6ivKviWr"
      },
      "source": [
        "### Initializing the optimizer and compiling the model"
      ]
    },
    {
      "cell_type": "code",
      "metadata": {
        "id": "DW55pDPAvqqg"
      },
      "source": [
        "opt = Adam(learning_rate = 0.01)\r\n",
        "\r\n",
        "my_model.compile(loss = 'mse', metrics = ['mae'], optimizer = opt)"
      ],
      "execution_count": 9,
      "outputs": []
    },
    {
      "cell_type": "markdown",
      "metadata": {
        "id": "z4AIniQrxJnx"
      },
      "source": [
        "### Fit and Evaluate the Model"
      ]
    },
    {
      "cell_type": "code",
      "metadata": {
        "colab": {
          "base_uri": "https://localhost:8080/"
        },
        "id": "s3flaN13v6Lt",
        "outputId": "fd6670b9-871c-471f-e263-645afd99331b"
      },
      "source": [
        "my_model.fit(features_train_scaled, labels_train, epochs = 40, batch_size = 1, verbose = 1)"
      ],
      "execution_count": 10,
      "outputs": [
        {
          "output_type": "stream",
          "text": [
            "Epoch 1/40\n",
            "2350/2350 [==============================] - 5s 1ms/step - loss: 511.3628 - mae: 12.6137\n",
            "Epoch 2/40\n",
            "2350/2350 [==============================] - 3s 1ms/step - loss: 34.6292 - mae: 4.1128\n",
            "Epoch 3/40\n",
            "2350/2350 [==============================] - 3s 1ms/step - loss: 19.1853 - mae: 3.3738\n",
            "Epoch 4/40\n",
            "2350/2350 [==============================] - 3s 1ms/step - loss: 21.2320 - mae: 3.3693\n",
            "Epoch 5/40\n",
            "2350/2350 [==============================] - 3s 1ms/step - loss: 28.1655 - mae: 3.3341\n",
            "Epoch 6/40\n",
            "2350/2350 [==============================] - 3s 1ms/step - loss: 16.6341 - mae: 3.0400\n",
            "Epoch 7/40\n",
            "2350/2350 [==============================] - 3s 1ms/step - loss: 14.0207 - mae: 2.8056\n",
            "Epoch 8/40\n",
            "2350/2350 [==============================] - 3s 1ms/step - loss: 15.0331 - mae: 2.8791\n",
            "Epoch 9/40\n",
            "2350/2350 [==============================] - 3s 1ms/step - loss: 15.1666 - mae: 2.8003\n",
            "Epoch 10/40\n",
            "2350/2350 [==============================] - 3s 1ms/step - loss: 11.1296 - mae: 2.4839\n",
            "Epoch 11/40\n",
            "2350/2350 [==============================] - 3s 1ms/step - loss: 12.2889 - mae: 2.5738\n",
            "Epoch 12/40\n",
            "2350/2350 [==============================] - 3s 1ms/step - loss: 12.5021 - mae: 2.6432\n",
            "Epoch 13/40\n",
            "2350/2350 [==============================] - 3s 1ms/step - loss: 11.9508 - mae: 2.5375\n",
            "Epoch 14/40\n",
            "2350/2350 [==============================] - 3s 1ms/step - loss: 11.8110 - mae: 2.6149\n",
            "Epoch 15/40\n",
            "2350/2350 [==============================] - 3s 1ms/step - loss: 13.7595 - mae: 2.7506\n",
            "Epoch 16/40\n",
            "2350/2350 [==============================] - 3s 1ms/step - loss: 11.0243 - mae: 2.4682\n",
            "Epoch 17/40\n",
            "2350/2350 [==============================] - 3s 1ms/step - loss: 12.4550 - mae: 2.5747\n",
            "Epoch 18/40\n",
            "2350/2350 [==============================] - 3s 1ms/step - loss: 9.5342 - mae: 2.3504\n",
            "Epoch 19/40\n",
            "2350/2350 [==============================] - 3s 1ms/step - loss: 9.8634 - mae: 2.2520\n",
            "Epoch 20/40\n",
            "2350/2350 [==============================] - 3s 1ms/step - loss: 9.4752 - mae: 2.3277\n",
            "Epoch 21/40\n",
            "2350/2350 [==============================] - 3s 1ms/step - loss: 8.1086 - mae: 2.1258\n",
            "Epoch 22/40\n",
            "2350/2350 [==============================] - 3s 1ms/step - loss: 8.6594 - mae: 2.2138\n",
            "Epoch 23/40\n",
            "2350/2350 [==============================] - 3s 1ms/step - loss: 9.2241 - mae: 2.2800\n",
            "Epoch 24/40\n",
            "2350/2350 [==============================] - 3s 1ms/step - loss: 9.3831 - mae: 2.2881\n",
            "Epoch 25/40\n",
            "2350/2350 [==============================] - 3s 1ms/step - loss: 8.8048 - mae: 2.2097\n",
            "Epoch 26/40\n",
            "2350/2350 [==============================] - 3s 1ms/step - loss: 8.9804 - mae: 2.1881\n",
            "Epoch 27/40\n",
            "2350/2350 [==============================] - 3s 1ms/step - loss: 8.6793 - mae: 2.2080\n",
            "Epoch 28/40\n",
            "2350/2350 [==============================] - 3s 1ms/step - loss: 8.4417 - mae: 2.1314\n",
            "Epoch 29/40\n",
            "2350/2350 [==============================] - 3s 1ms/step - loss: 9.3837 - mae: 2.2601\n",
            "Epoch 30/40\n",
            "2350/2350 [==============================] - 3s 1ms/step - loss: 8.4759 - mae: 2.1080\n",
            "Epoch 31/40\n",
            "2350/2350 [==============================] - 3s 1ms/step - loss: 8.8274 - mae: 2.1978\n",
            "Epoch 32/40\n",
            "2350/2350 [==============================] - 3s 1ms/step - loss: 7.8520 - mae: 2.1284\n",
            "Epoch 33/40\n",
            "2350/2350 [==============================] - 3s 1ms/step - loss: 8.0853 - mae: 2.1195\n",
            "Epoch 34/40\n",
            "2350/2350 [==============================] - 3s 1ms/step - loss: 7.4419 - mae: 2.0724\n",
            "Epoch 35/40\n",
            "2350/2350 [==============================] - 3s 1ms/step - loss: 7.1890 - mae: 2.0215\n",
            "Epoch 36/40\n",
            "2350/2350 [==============================] - 3s 1ms/step - loss: 9.0023 - mae: 2.1900\n",
            "Epoch 37/40\n",
            "2350/2350 [==============================] - 3s 1ms/step - loss: 7.8419 - mae: 2.0889\n",
            "Epoch 38/40\n",
            "2350/2350 [==============================] - 3s 1ms/step - loss: 8.7703 - mae: 2.1491\n",
            "Epoch 39/40\n",
            "2350/2350 [==============================] - 3s 1ms/step - loss: 8.0129 - mae: 2.1057\n",
            "Epoch 40/40\n",
            "2350/2350 [==============================] - 3s 1ms/step - loss: 7.4323 - mae: 2.0477\n"
          ],
          "name": "stdout"
        },
        {
          "output_type": "execute_result",
          "data": {
            "text/plain": [
              "<tensorflow.python.keras.callbacks.History at 0x7fb3821a1ba8>"
            ]
          },
          "metadata": {
            "tags": []
          },
          "execution_count": 10
        }
      ]
    },
    {
      "cell_type": "code",
      "metadata": {
        "colab": {
          "base_uri": "https://localhost:8080/"
        },
        "id": "vEYSoYzdxcuz",
        "outputId": "1a0699ef-2cb2-4957-c248-9cf1708ee693"
      },
      "source": [
        "rse_mse, rse_mae = my_model.evaluate(features_test_scaled, labels_test, verbose = 1)\r\n",
        "print(rse_mse, rse_mae)"
      ],
      "execution_count": 16,
      "outputs": [
        {
          "output_type": "stream",
          "text": [
            "19/19 [==============================] - 0s 1ms/step - loss: 7.1636 - mae: 1.9131\n",
            "7.163559436798096 1.9130504131317139\n"
          ],
          "name": "stdout"
        }
      ]
    },
    {
      "cell_type": "markdown",
      "metadata": {
        "id": "Cw_AtcKx7z9Z"
      },
      "source": [
        "### Conclusion\r\n",
        " This means that on average we’re off with our prediction by around 2 years."
      ]
    }
  ]
}